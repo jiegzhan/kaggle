{
  "cells": [
    {
      "metadata": {
        "_cell_guid": "79c7e3d0-c299-4dcb-8224-4455121ee9b0",
        "_uuid": "d629ff2d2480ee46fbb7e2d37f6b5fab8052498a",
        "trusted": true
      },
      "cell_type": "code",
      "source": "import pandas as pd\nraw = pd.read_csv('../input/train.csv', nrows=5000000)\nraw.head()",
      "execution_count": 76,
      "outputs": [
        {
          "output_type": "execute_result",
          "execution_count": 76,
          "data": {
            "text/plain": "       ip  app  device  os  channel           click_time attributed_time  \\\n0   83230    3       1  13      379  2017-11-06 14:32:21             NaN   \n1   17357    3       1  19      379  2017-11-06 14:33:34             NaN   \n2   35810    3       1  13      379  2017-11-06 14:34:12             NaN   \n3   45745   14       1  13      478  2017-11-06 14:34:52             NaN   \n4  161007    3       1  13      379  2017-11-06 14:35:08             NaN   \n\n   is_attributed  \n0              0  \n1              0  \n2              0  \n3              0  \n4              0  ",
            "text/html": "<div>\n<style>\n    .dataframe thead tr:only-child th {\n        text-align: right;\n    }\n\n    .dataframe thead th {\n        text-align: left;\n    }\n\n    .dataframe tbody tr th {\n        vertical-align: top;\n    }\n</style>\n<table border=\"1\" class=\"dataframe\">\n  <thead>\n    <tr style=\"text-align: right;\">\n      <th></th>\n      <th>ip</th>\n      <th>app</th>\n      <th>device</th>\n      <th>os</th>\n      <th>channel</th>\n      <th>click_time</th>\n      <th>attributed_time</th>\n      <th>is_attributed</th>\n    </tr>\n  </thead>\n  <tbody>\n    <tr>\n      <th>0</th>\n      <td>83230</td>\n      <td>3</td>\n      <td>1</td>\n      <td>13</td>\n      <td>379</td>\n      <td>2017-11-06 14:32:21</td>\n      <td>NaN</td>\n      <td>0</td>\n    </tr>\n    <tr>\n      <th>1</th>\n      <td>17357</td>\n      <td>3</td>\n      <td>1</td>\n      <td>19</td>\n      <td>379</td>\n      <td>2017-11-06 14:33:34</td>\n      <td>NaN</td>\n      <td>0</td>\n    </tr>\n    <tr>\n      <th>2</th>\n      <td>35810</td>\n      <td>3</td>\n      <td>1</td>\n      <td>13</td>\n      <td>379</td>\n      <td>2017-11-06 14:34:12</td>\n      <td>NaN</td>\n      <td>0</td>\n    </tr>\n    <tr>\n      <th>3</th>\n      <td>45745</td>\n      <td>14</td>\n      <td>1</td>\n      <td>13</td>\n      <td>478</td>\n      <td>2017-11-06 14:34:52</td>\n      <td>NaN</td>\n      <td>0</td>\n    </tr>\n    <tr>\n      <th>4</th>\n      <td>161007</td>\n      <td>3</td>\n      <td>1</td>\n      <td>13</td>\n      <td>379</td>\n      <td>2017-11-06 14:35:08</td>\n      <td>NaN</td>\n      <td>0</td>\n    </tr>\n  </tbody>\n</table>\n</div>"
          },
          "metadata": {}
        }
      ]
    },
    {
      "metadata": {
        "trusted": true,
        "_uuid": "98d478ad3c94e0e6d7f250cb029c17997860072f"
      },
      "cell_type": "code",
      "source": "raw = raw.drop(['click_time', 'attributed_time'], axis=1)\nraw.head()",
      "execution_count": 80,
      "outputs": [
        {
          "output_type": "execute_result",
          "execution_count": 80,
          "data": {
            "text/plain": "       ip  app  device  os  channel  is_attributed\n0   83230    3       1  13      379              0\n1   17357    3       1  19      379              0\n2   35810    3       1  13      379              0\n3   45745   14       1  13      478              0\n4  161007    3       1  13      379              0",
            "text/html": "<div>\n<style>\n    .dataframe thead tr:only-child th {\n        text-align: right;\n    }\n\n    .dataframe thead th {\n        text-align: left;\n    }\n\n    .dataframe tbody tr th {\n        vertical-align: top;\n    }\n</style>\n<table border=\"1\" class=\"dataframe\">\n  <thead>\n    <tr style=\"text-align: right;\">\n      <th></th>\n      <th>ip</th>\n      <th>app</th>\n      <th>device</th>\n      <th>os</th>\n      <th>channel</th>\n      <th>is_attributed</th>\n    </tr>\n  </thead>\n  <tbody>\n    <tr>\n      <th>0</th>\n      <td>83230</td>\n      <td>3</td>\n      <td>1</td>\n      <td>13</td>\n      <td>379</td>\n      <td>0</td>\n    </tr>\n    <tr>\n      <th>1</th>\n      <td>17357</td>\n      <td>3</td>\n      <td>1</td>\n      <td>19</td>\n      <td>379</td>\n      <td>0</td>\n    </tr>\n    <tr>\n      <th>2</th>\n      <td>35810</td>\n      <td>3</td>\n      <td>1</td>\n      <td>13</td>\n      <td>379</td>\n      <td>0</td>\n    </tr>\n    <tr>\n      <th>3</th>\n      <td>45745</td>\n      <td>14</td>\n      <td>1</td>\n      <td>13</td>\n      <td>478</td>\n      <td>0</td>\n    </tr>\n    <tr>\n      <th>4</th>\n      <td>161007</td>\n      <td>3</td>\n      <td>1</td>\n      <td>13</td>\n      <td>379</td>\n      <td>0</td>\n    </tr>\n  </tbody>\n</table>\n</div>"
          },
          "metadata": {}
        }
      ]
    },
    {
      "metadata": {
        "trusted": true,
        "_uuid": "b92bb50a7605d863d364e4abd72d6d83e6aa57e7"
      },
      "cell_type": "code",
      "source": "raw['is_attributed'].value_counts()",
      "execution_count": 81,
      "outputs": [
        {
          "output_type": "execute_result",
          "execution_count": 81,
          "data": {
            "text/plain": "0    4991046\n1       8954\nName: is_attributed, dtype: int64"
          },
          "metadata": {}
        }
      ]
    },
    {
      "metadata": {
        "trusted": true,
        "_uuid": "d5317e4330acf6a41fa0d8e2df52497463537fd3"
      },
      "cell_type": "code",
      "source": "raw.isnull().sum()",
      "execution_count": 82,
      "outputs": [
        {
          "output_type": "execute_result",
          "execution_count": 82,
          "data": {
            "text/plain": "ip               0\napp              0\ndevice           0\nos               0\nchannel          0\nis_attributed    0\ndtype: int64"
          },
          "metadata": {}
        }
      ]
    },
    {
      "metadata": {
        "trusted": true,
        "_uuid": "9855900ca3aba30d2eed155be80b05f76e3e9145"
      },
      "cell_type": "code",
      "source": "raw.columns.values",
      "execution_count": 83,
      "outputs": [
        {
          "output_type": "execute_result",
          "execution_count": 83,
          "data": {
            "text/plain": "array(['ip', 'app', 'device', 'os', 'channel', 'is_attributed'], dtype=object)"
          },
          "metadata": {}
        }
      ]
    },
    {
      "metadata": {
        "trusted": true,
        "_uuid": "c580e564419999ae97f598db154c55969498b18d"
      },
      "cell_type": "code",
      "source": "features = raw.columns.values.tolist()[0:5]\nfeatures",
      "execution_count": 84,
      "outputs": [
        {
          "output_type": "execute_result",
          "execution_count": 84,
          "data": {
            "text/plain": "['ip', 'app', 'device', 'os', 'channel']"
          },
          "metadata": {}
        }
      ]
    },
    {
      "metadata": {
        "collapsed": true,
        "trusted": true,
        "_uuid": "0b80887bf5b71340da9943ba6d32455f9bc66487"
      },
      "cell_type": "code",
      "source": "X = raw[features]\ny = raw['is_attributed']",
      "execution_count": 86,
      "outputs": []
    },
    {
      "metadata": {
        "collapsed": true,
        "trusted": true,
        "_uuid": "9c71d6de822cf6ea505dce45f792e8f662443b30"
      },
      "cell_type": "code",
      "source": "from sklearn.model_selection import train_test_split\nX_train, X_test, y_train, y_test = train_test_split(X, y, test_size=0.2, random_state=2018)",
      "execution_count": 87,
      "outputs": []
    },
    {
      "metadata": {
        "trusted": true,
        "_uuid": "0fc1445c74d6f1042175e5f0d438a276a9cd8f1c"
      },
      "cell_type": "code",
      "source": "X_train.shape",
      "execution_count": 88,
      "outputs": [
        {
          "output_type": "execute_result",
          "execution_count": 88,
          "data": {
            "text/plain": "(4000000, 5)"
          },
          "metadata": {}
        }
      ]
    },
    {
      "metadata": {
        "trusted": true,
        "_uuid": "62534f56081bf1c832ed3c13043a670603efb521"
      },
      "cell_type": "code",
      "source": "y_train.value_counts()",
      "execution_count": 89,
      "outputs": [
        {
          "output_type": "execute_result",
          "execution_count": 89,
          "data": {
            "text/plain": "0    3992863\n1       7137\nName: is_attributed, dtype: int64"
          },
          "metadata": {}
        }
      ]
    },
    {
      "metadata": {
        "trusted": true,
        "_uuid": "c3939c7024c6ae61582c2aa21657e2b04fa147a7"
      },
      "cell_type": "code",
      "source": "X_test.shape",
      "execution_count": 90,
      "outputs": [
        {
          "output_type": "execute_result",
          "execution_count": 90,
          "data": {
            "text/plain": "(1000000, 5)"
          },
          "metadata": {}
        }
      ]
    },
    {
      "metadata": {
        "trusted": true,
        "_uuid": "f1808ccbee10144e51ac9eb8c4a4902f338a09b6"
      },
      "cell_type": "code",
      "source": "y_test.value_counts()",
      "execution_count": 91,
      "outputs": [
        {
          "output_type": "execute_result",
          "execution_count": 91,
          "data": {
            "text/plain": "0    998183\n1      1817\nName: is_attributed, dtype: int64"
          },
          "metadata": {}
        }
      ]
    },
    {
      "metadata": {
        "trusted": true,
        "_uuid": "95008bccc4f7e3afa2cb2073aa29ab5778b2251b"
      },
      "cell_type": "code",
      "source": "from sklearn.ensemble import RandomForestClassifier\nfrom sklearn import metrics\n\nrf = RandomForestClassifier(max_depth=20, random_state=2018)\nrf.fit(X_train, y_train)",
      "execution_count": 92,
      "outputs": [
        {
          "output_type": "execute_result",
          "execution_count": 92,
          "data": {
            "text/plain": "RandomForestClassifier(bootstrap=True, class_weight=None, criterion='gini',\n            max_depth=20, max_features='auto', max_leaf_nodes=None,\n            min_impurity_decrease=0.0, min_impurity_split=None,\n            min_samples_leaf=1, min_samples_split=2,\n            min_weight_fraction_leaf=0.0, n_estimators=10, n_jobs=1,\n            oob_score=False, random_state=2018, verbose=0,\n            warm_start=False)"
          },
          "metadata": {}
        }
      ]
    },
    {
      "metadata": {
        "collapsed": true,
        "trusted": true,
        "_uuid": "bd67b8341ed8d7c81df0c23077f558abc9bdb650"
      },
      "cell_type": "code",
      "source": "y_pred = rf.predict(X_test)",
      "execution_count": 94,
      "outputs": []
    },
    {
      "metadata": {
        "trusted": true,
        "_uuid": "fb541b4448e3b8f780a92ebaa078c2a3a76f90ff"
      },
      "cell_type": "code",
      "source": "from sklearn.metrics import confusion_matrix\ncm = confusion_matrix(y_test, y_pred)\ncm",
      "execution_count": 95,
      "outputs": [
        {
          "output_type": "execute_result",
          "execution_count": 95,
          "data": {
            "text/plain": "array([[997752,    431],\n       [  1323,    494]])"
          },
          "metadata": {}
        }
      ]
    },
    {
      "metadata": {
        "trusted": true,
        "_uuid": "3425aef7db11d2ff7f75928be4737a103a9ae251"
      },
      "cell_type": "code",
      "source": "from sklearn.metrics import classification_report\ncr = classification_report(y_test, y_pred)\nprint(cr)",
      "execution_count": 96,
      "outputs": [
        {
          "output_type": "stream",
          "text": "             precision    recall  f1-score   support\n\n          0       1.00      1.00      1.00    998183\n          1       0.53      0.27      0.36      1817\n\navg / total       1.00      1.00      1.00   1000000\n\n",
          "name": "stdout"
        }
      ]
    },
    {
      "metadata": {
        "trusted": true,
        "_uuid": "d0099a90beaf0bf7fd677aee98b22d020118f6a3"
      },
      "cell_type": "code",
      "source": "from sklearn.metrics import roc_auc_score\nroc_auc = roc_auc_score(y_test, y_pred)\nroc_auc",
      "execution_count": 97,
      "outputs": [
        {
          "output_type": "execute_result",
          "execution_count": 97,
          "data": {
            "text/plain": "0.63572246765769125"
          },
          "metadata": {}
        }
      ]
    },
    {
      "metadata": {
        "trusted": true,
        "_uuid": "4cd6db073aa7f193806d346d470b754556b4333c"
      },
      "cell_type": "code",
      "source": "from sklearn.metrics import roc_curve\nfpr, tpr, thresholds = roc_curve(y_test, rf.predict_proba(X_test)[:,1])\nplt.figure()\nplt.plot(fpr, tpr, color='darkorange', label='Random Forest (area = %0.2f)' % roc_auc)\nplt.plot([0, 1], [0, 1], color='navy', lw=2, linestyle='--')\nplt.xlim([0.0, 1.0])\nplt.ylim([0.0, 1.05])\nplt.xlabel('False Positive Rate')\nplt.ylabel('True Positive Rate')\nplt.title('Receiver Operating Characteristic')\nplt.legend(loc=\"lower right\")\nplt.show()",
      "execution_count": 99,
      "outputs": [
        {
          "output_type": "display_data",
          "data": {
            "text/plain": "<matplotlib.figure.Figure at 0x7fbe3efd5eb8>",
            "image/png": "[encoded data removed]"
          },
          "metadata": {}
        }
      ]
    },
    {
      "metadata": {
        "trusted": true,
        "_uuid": "1486f7a9a648fe95e4f35d966e4396681b8aa386"
      },
      "cell_type": "code",
      "source": "unseen_data = pd.read_csv('../input/test.csv')\nunseen_data.shape",
      "execution_count": 100,
      "outputs": [
        {
          "output_type": "execute_result",
          "execution_count": 100,
          "data": {
            "text/plain": "(18790469, 7)"
          },
          "metadata": {}
        }
      ]
    },
    {
      "metadata": {
        "trusted": true,
        "_uuid": "a25511b27c2122873349739024cac396ddf3f0f1"
      },
      "cell_type": "code",
      "source": "unseen_data.head()",
      "execution_count": 101,
      "outputs": [
        {
          "output_type": "execute_result",
          "execution_count": 101,
          "data": {
            "text/plain": "   click_id      ip  app  device  os  channel           click_time\n0         0    5744    9       1   3      107  2017-11-10 04:00:00\n1         1  119901    9       1   3      466  2017-11-10 04:00:00\n2         2   72287   21       1  19      128  2017-11-10 04:00:00\n3         3   78477   15       1  13      111  2017-11-10 04:00:00\n4         4  123080   12       1  13      328  2017-11-10 04:00:00",
            "text/html": "<div>\n<style>\n    .dataframe thead tr:only-child th {\n        text-align: right;\n    }\n\n    .dataframe thead th {\n        text-align: left;\n    }\n\n    .dataframe tbody tr th {\n        vertical-align: top;\n    }\n</style>\n<table border=\"1\" class=\"dataframe\">\n  <thead>\n    <tr style=\"text-align: right;\">\n      <th></th>\n      <th>click_id</th>\n      <th>ip</th>\n      <th>app</th>\n      <th>device</th>\n      <th>os</th>\n      <th>channel</th>\n      <th>click_time</th>\n    </tr>\n  </thead>\n  <tbody>\n    <tr>\n      <th>0</th>\n      <td>0</td>\n      <td>5744</td>\n      <td>9</td>\n      <td>1</td>\n      <td>3</td>\n      <td>107</td>\n      <td>2017-11-10 04:00:00</td>\n    </tr>\n    <tr>\n      <th>1</th>\n      <td>1</td>\n      <td>119901</td>\n      <td>9</td>\n      <td>1</td>\n      <td>3</td>\n      <td>466</td>\n      <td>2017-11-10 04:00:00</td>\n    </tr>\n    <tr>\n      <th>2</th>\n      <td>2</td>\n      <td>72287</td>\n      <td>21</td>\n      <td>1</td>\n      <td>19</td>\n      <td>128</td>\n      <td>2017-11-10 04:00:00</td>\n    </tr>\n    <tr>\n      <th>3</th>\n      <td>3</td>\n      <td>78477</td>\n      <td>15</td>\n      <td>1</td>\n      <td>13</td>\n      <td>111</td>\n      <td>2017-11-10 04:00:00</td>\n    </tr>\n    <tr>\n      <th>4</th>\n      <td>4</td>\n      <td>123080</td>\n      <td>12</td>\n      <td>1</td>\n      <td>13</td>\n      <td>328</td>\n      <td>2017-11-10 04:00:00</td>\n    </tr>\n  </tbody>\n</table>\n</div>"
          },
          "metadata": {}
        }
      ]
    },
    {
      "metadata": {
        "trusted": true,
        "_uuid": "208e04a430eedf5d8724798a40aa49635282bfc7"
      },
      "cell_type": "code",
      "source": "unseen_data.drop(['click_time'], axis=1, inplace=True)\nunseen_data.head()",
      "execution_count": 102,
      "outputs": [
        {
          "output_type": "execute_result",
          "execution_count": 102,
          "data": {
            "text/plain": "   click_id      ip  app  device  os  channel\n0         0    5744    9       1   3      107\n1         1  119901    9       1   3      466\n2         2   72287   21       1  19      128\n3         3   78477   15       1  13      111\n4         4  123080   12       1  13      328",
            "text/html": "<div>\n<style>\n    .dataframe thead tr:only-child th {\n        text-align: right;\n    }\n\n    .dataframe thead th {\n        text-align: left;\n    }\n\n    .dataframe tbody tr th {\n        vertical-align: top;\n    }\n</style>\n<table border=\"1\" class=\"dataframe\">\n  <thead>\n    <tr style=\"text-align: right;\">\n      <th></th>\n      <th>click_id</th>\n      <th>ip</th>\n      <th>app</th>\n      <th>device</th>\n      <th>os</th>\n      <th>channel</th>\n    </tr>\n  </thead>\n  <tbody>\n    <tr>\n      <th>0</th>\n      <td>0</td>\n      <td>5744</td>\n      <td>9</td>\n      <td>1</td>\n      <td>3</td>\n      <td>107</td>\n    </tr>\n    <tr>\n      <th>1</th>\n      <td>1</td>\n      <td>119901</td>\n      <td>9</td>\n      <td>1</td>\n      <td>3</td>\n      <td>466</td>\n    </tr>\n    <tr>\n      <th>2</th>\n      <td>2</td>\n      <td>72287</td>\n      <td>21</td>\n      <td>1</td>\n      <td>19</td>\n      <td>128</td>\n    </tr>\n    <tr>\n      <th>3</th>\n      <td>3</td>\n      <td>78477</td>\n      <td>15</td>\n      <td>1</td>\n      <td>13</td>\n      <td>111</td>\n    </tr>\n    <tr>\n      <th>4</th>\n      <td>4</td>\n      <td>123080</td>\n      <td>12</td>\n      <td>1</td>\n      <td>13</td>\n      <td>328</td>\n    </tr>\n  </tbody>\n</table>\n</div>"
          },
          "metadata": {}
        }
      ]
    },
    {
      "metadata": {
        "trusted": true,
        "_uuid": "63a278954ef4f58c454cd152d0ac2f3b28bb0480"
      },
      "cell_type": "code",
      "source": "unseen_data[features].isnull().sum()",
      "execution_count": 103,
      "outputs": [
        {
          "output_type": "execute_result",
          "execution_count": 103,
          "data": {
            "text/plain": "ip         0\napp        0\ndevice     0\nos         0\nchannel    0\ndtype: int64"
          },
          "metadata": {}
        }
      ]
    },
    {
      "metadata": {
        "trusted": true,
        "_uuid": "9828f7474984fdfe758d0a53da0dd5a8b047fc1b"
      },
      "cell_type": "code",
      "source": "unseen_data_pred = rf.predict(unseen_data[features])\nunseen_data_pred",
      "execution_count": 105,
      "outputs": [
        {
          "output_type": "execute_result",
          "execution_count": 105,
          "data": {
            "text/plain": "array([0, 0, 0, ..., 0, 0, 0])"
          },
          "metadata": {}
        }
      ]
    },
    {
      "metadata": {
        "trusted": true,
        "_uuid": "edc799dbf9cf49d36ce011b4ac3460dab53d55be"
      },
      "cell_type": "code",
      "source": "submission = pd.concat([unseen_data['click_id'], pd.Series(unseen_data_pred, name='is_attributed')], axis=1)\nsubmission.head()",
      "execution_count": 112,
      "outputs": [
        {
          "output_type": "execute_result",
          "execution_count": 112,
          "data": {
            "text/plain": "   click_id  is_attributed\n0         0              0\n1         1              0\n2         2              0\n3         3              0\n4         4              0",
            "text/html": "<div>\n<style>\n    .dataframe thead tr:only-child th {\n        text-align: right;\n    }\n\n    .dataframe thead th {\n        text-align: left;\n    }\n\n    .dataframe tbody tr th {\n        vertical-align: top;\n    }\n</style>\n<table border=\"1\" class=\"dataframe\">\n  <thead>\n    <tr style=\"text-align: right;\">\n      <th></th>\n      <th>click_id</th>\n      <th>is_attributed</th>\n    </tr>\n  </thead>\n  <tbody>\n    <tr>\n      <th>0</th>\n      <td>0</td>\n      <td>0</td>\n    </tr>\n    <tr>\n      <th>1</th>\n      <td>1</td>\n      <td>0</td>\n    </tr>\n    <tr>\n      <th>2</th>\n      <td>2</td>\n      <td>0</td>\n    </tr>\n    <tr>\n      <th>3</th>\n      <td>3</td>\n      <td>0</td>\n    </tr>\n    <tr>\n      <th>4</th>\n      <td>4</td>\n      <td>0</td>\n    </tr>\n  </tbody>\n</table>\n</div>"
          },
          "metadata": {}
        }
      ]
    },
    {
      "metadata": {
        "trusted": true,
        "_uuid": "071c5b5170ac263a84dd9efd1520821ac30da2ce"
      },
      "cell_type": "code",
      "source": "submission.shape",
      "execution_count": 113,
      "outputs": [
        {
          "output_type": "execute_result",
          "execution_count": 113,
          "data": {
            "text/plain": "(18790469, 2)"
          },
          "metadata": {}
        }
      ]
    },
    {
      "metadata": {
        "trusted": true,
        "collapsed": true,
        "_uuid": "35a56df0da9228105afe808fc2731006a9d6bc8d"
      },
      "cell_type": "code",
      "source": "submission.to_csv('submission.csv', index=False)",
      "execution_count": 115,
      "outputs": []
    }
  ],
  "metadata": {
    "kernelspec": {
      "display_name": "Python 3",
      "language": "python",
      "name": "python3"
    },
    "language_info": {
      "name": "python",
      "version": "3.6.4",
      "mimetype": "text/x-python",
      "codemirror_mode": {
        "name": "ipython",
        "version": 3
      },
      "pygments_lexer": "ipython3",
      "nbconvert_exporter": "python",
      "file_extension": ".py"
    }
  },
  "nbformat": 4,
  "nbformat_minor": 1
}