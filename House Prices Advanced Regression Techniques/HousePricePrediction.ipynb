{
  "cells": [
    {
      "metadata": {
        "_cell_guid": "79c7e3d0-c299-4dcb-8224-4455121ee9b0",
        "_uuid": "d629ff2d2480ee46fbb7e2d37f6b5fab8052498a",
        "trusted": true
      },
      "cell_type": "code",
      "source": "import pandas as pd\nraw = pd.read_csv(\"../input/train.csv\")\nraw.head()",
      "execution_count": 1,
      "outputs": [
        {
          "output_type": "execute_result",
          "execution_count": 1,
          "data": {
            "text/plain": "   Id  MSSubClass MSZoning  LotFrontage  LotArea Street Alley LotShape  \\\n0   1          60       RL         65.0     8450   Pave   NaN      Reg   \n1   2          20       RL         80.0     9600   Pave   NaN      Reg   \n2   3          60       RL         68.0    11250   Pave   NaN      IR1   \n3   4          70       RL         60.0     9550   Pave   NaN      IR1   \n4   5          60       RL         84.0    14260   Pave   NaN      IR1   \n\n  LandContour Utilities    ...     PoolArea PoolQC Fence MiscFeature MiscVal  \\\n0         Lvl    AllPub    ...            0    NaN   NaN         NaN       0   \n1         Lvl    AllPub    ...            0    NaN   NaN         NaN       0   \n2         Lvl    AllPub    ...            0    NaN   NaN         NaN       0   \n3         Lvl    AllPub    ...            0    NaN   NaN         NaN       0   \n4         Lvl    AllPub    ...            0    NaN   NaN         NaN       0   \n\n  MoSold YrSold  SaleType  SaleCondition  SalePrice  \n0      2   2008        WD         Normal     208500  \n1      5   2007        WD         Normal     181500  \n2      9   2008        WD         Normal     223500  \n3      2   2006        WD        Abnorml     140000  \n4     12   2008        WD         Normal     250000  \n\n[5 rows x 81 columns]",
            "text/html": "<div>\n<style>\n    .dataframe thead tr:only-child th {\n        text-align: right;\n    }\n\n    .dataframe thead th {\n        text-align: left;\n    }\n\n    .dataframe tbody tr th {\n        vertical-align: top;\n    }\n</style>\n<table border=\"1\" class=\"dataframe\">\n  <thead>\n    <tr style=\"text-align: right;\">\n      <th></th>\n      <th>Id</th>\n      <th>MSSubClass</th>\n      <th>MSZoning</th>\n      <th>LotFrontage</th>\n      <th>LotArea</th>\n      <th>Street</th>\n      <th>Alley</th>\n      <th>LotShape</th>\n      <th>LandContour</th>\n      <th>Utilities</th>\n      <th>...</th>\n      <th>PoolArea</th>\n      <th>PoolQC</th>\n      <th>Fence</th>\n      <th>MiscFeature</th>\n      <th>MiscVal</th>\n      <th>MoSold</th>\n      <th>YrSold</th>\n      <th>SaleType</th>\n      <th>SaleCondition</th>\n      <th>SalePrice</th>\n    </tr>\n  </thead>\n  <tbody>\n    <tr>\n      <th>0</th>\n      <td>1</td>\n      <td>60</td>\n      <td>RL</td>\n      <td>65.0</td>\n      <td>8450</td>\n      <td>Pave</td>\n      <td>NaN</td>\n      <td>Reg</td>\n      <td>Lvl</td>\n      <td>AllPub</td>\n      <td>...</td>\n      <td>0</td>\n      <td>NaN</td>\n      <td>NaN</td>\n      <td>NaN</td>\n      <td>0</td>\n      <td>2</td>\n      <td>2008</td>\n      <td>WD</td>\n      <td>Normal</td>\n      <td>208500</td>\n    </tr>\n    <tr>\n      <th>1</th>\n      <td>2</td>\n      <td>20</td>\n      <td>RL</td>\n      <td>80.0</td>\n      <td>9600</td>\n      <td>Pave</td>\n      <td>NaN</td>\n      <td>Reg</td>\n      <td>Lvl</td>\n      <td>AllPub</td>\n      <td>...</td>\n      <td>0</td>\n      <td>NaN</td>\n      <td>NaN</td>\n      <td>NaN</td>\n      <td>0</td>\n      <td>5</td>\n      <td>2007</td>\n      <td>WD</td>\n      <td>Normal</td>\n      <td>181500</td>\n    </tr>\n    <tr>\n      <th>2</th>\n      <td>3</td>\n      <td>60</td>\n      <td>RL</td>\n      <td>68.0</td>\n      <td>11250</td>\n      <td>Pave</td>\n      <td>NaN</td>\n      <td>IR1</td>\n      <td>Lvl</td>\n      <td>AllPub</td>\n      <td>...</td>\n      <td>0</td>\n      <td>NaN</td>\n      <td>NaN</td>\n      <td>NaN</td>\n      <td>0</td>\n      <td>9</td>\n      <td>2008</td>\n      <td>WD</td>\n      <td>Normal</td>\n      <td>223500</td>\n    </tr>\n    <tr>\n      <th>3</th>\n      <td>4</td>\n      <td>70</td>\n      <td>RL</td>\n      <td>60.0</td>\n      <td>9550</td>\n      <td>Pave</td>\n      <td>NaN</td>\n      <td>IR1</td>\n      <td>Lvl</td>\n      <td>AllPub</td>\n      <td>...</td>\n      <td>0</td>\n      <td>NaN</td>\n      <td>NaN</td>\n      <td>NaN</td>\n      <td>0</td>\n      <td>2</td>\n      <td>2006</td>\n      <td>WD</td>\n      <td>Abnorml</td>\n      <td>140000</td>\n    </tr>\n    <tr>\n      <th>4</th>\n      <td>5</td>\n      <td>60</td>\n      <td>RL</td>\n      <td>84.0</td>\n      <td>14260</td>\n      <td>Pave</td>\n      <td>NaN</td>\n      <td>IR1</td>\n      <td>Lvl</td>\n      <td>AllPub</td>\n      <td>...</td>\n      <td>0</td>\n      <td>NaN</td>\n      <td>NaN</td>\n      <td>NaN</td>\n      <td>0</td>\n      <td>12</td>\n      <td>2008</td>\n      <td>WD</td>\n      <td>Normal</td>\n      <td>250000</td>\n    </tr>\n  </tbody>\n</table>\n<p>5 rows × 81 columns</p>\n</div>"
          },
          "metadata": {}
        }
      ]
    },
    {
      "metadata": {
        "_cell_guid": "767f18b5-8148-41aa-a448-299590f5e77b",
        "_uuid": "0795c64e19224bdfc76f4240e58b09413c4e2683",
        "trusted": true
      },
      "cell_type": "code",
      "source": "raw.columns.values",
      "execution_count": 2,
      "outputs": [
        {
          "output_type": "execute_result",
          "execution_count": 2,
          "data": {
            "text/plain": "array(['Id', 'MSSubClass', 'MSZoning', 'LotFrontage', 'LotArea', 'Street',\n       'Alley', 'LotShape', 'LandContour', 'Utilities', 'LotConfig',\n       'LandSlope', 'Neighborhood', 'Condition1', 'Condition2', 'BldgType',\n       'HouseStyle', 'OverallQual', 'OverallCond', 'YearBuilt',\n       'YearRemodAdd', 'RoofStyle', 'RoofMatl', 'Exterior1st',\n       'Exterior2nd', 'MasVnrType', 'MasVnrArea', 'ExterQual', 'ExterCond',\n       'Foundation', 'BsmtQual', 'BsmtCond', 'BsmtExposure',\n       'BsmtFinType1', 'BsmtFinSF1', 'BsmtFinType2', 'BsmtFinSF2',\n       'BsmtUnfSF', 'TotalBsmtSF', 'Heating', 'HeatingQC', 'CentralAir',\n       'Electrical', '1stFlrSF', '2ndFlrSF', 'LowQualFinSF', 'GrLivArea',\n       'BsmtFullBath', 'BsmtHalfBath', 'FullBath', 'HalfBath',\n       'BedroomAbvGr', 'KitchenAbvGr', 'KitchenQual', 'TotRmsAbvGrd',\n       'Functional', 'Fireplaces', 'FireplaceQu', 'GarageType',\n       'GarageYrBlt', 'GarageFinish', 'GarageCars', 'GarageArea',\n       'GarageQual', 'GarageCond', 'PavedDrive', 'WoodDeckSF',\n       'OpenPorchSF', 'EnclosedPorch', '3SsnPorch', 'ScreenPorch',\n       'PoolArea', 'PoolQC', 'Fence', 'MiscFeature', 'MiscVal', 'MoSold',\n       'YrSold', 'SaleType', 'SaleCondition', 'SalePrice'], dtype=object)"
          },
          "metadata": {}
        }
      ]
    },
    {
      "metadata": {
        "_cell_guid": "b8282aa5-ae9e-4e80-b3bb-8a1055c27244",
        "collapsed": true,
        "_uuid": "752fe68f3feb087604140069d6f660ff2f62a6e2",
        "trusted": true
      },
      "cell_type": "code",
      "source": "features = ['MSSubClass', 'LotArea', 'OverallQual', 'OverallCond', 'TotalBsmtSF', '1stFlrSF', '2ndFlrSF', 'GrLivArea', 'BedroomAbvGr', 'TotRmsAbvGrd', 'WoodDeckSF', 'YearBuilt', 'YearRemodAdd', 'MoSold', 'YrSold']",
      "execution_count": 4,
      "outputs": []
    },
    {
      "metadata": {
        "_cell_guid": "01b7764e-7080-44f0-b324-0997f3b94332",
        "_uuid": "e46309788a77569e7b34b3743fd6d175e8d36f5d",
        "trusted": true
      },
      "cell_type": "code",
      "source": "data = raw[features]\ndata.head()",
      "execution_count": 6,
      "outputs": [
        {
          "output_type": "execute_result",
          "execution_count": 6,
          "data": {
            "text/plain": "   MSSubClass  LotArea  OverallQual  OverallCond  TotalBsmtSF  1stFlrSF  \\\n0          60     8450            7            5          856       856   \n1          20     9600            6            8         1262      1262   \n2          60    11250            7            5          920       920   \n3          70     9550            7            5          756       961   \n4          60    14260            8            5         1145      1145   \n\n   2ndFlrSF  GrLivArea  BedroomAbvGr  TotRmsAbvGrd  WoodDeckSF  YearBuilt  \\\n0       854       1710             3             8           0       2003   \n1         0       1262             3             6         298       1976   \n2       866       1786             3             6           0       2001   \n3       756       1717             3             7           0       1915   \n4      1053       2198             4             9         192       2000   \n\n   YearRemodAdd  MoSold  YrSold  \n0          2003       2    2008  \n1          1976       5    2007  \n2          2002       9    2008  \n3          1970       2    2006  \n4          2000      12    2008  ",
            "text/html": "<div>\n<style>\n    .dataframe thead tr:only-child th {\n        text-align: right;\n    }\n\n    .dataframe thead th {\n        text-align: left;\n    }\n\n    .dataframe tbody tr th {\n        vertical-align: top;\n    }\n</style>\n<table border=\"1\" class=\"dataframe\">\n  <thead>\n    <tr style=\"text-align: right;\">\n      <th></th>\n      <th>MSSubClass</th>\n      <th>LotArea</th>\n      <th>OverallQual</th>\n      <th>OverallCond</th>\n      <th>TotalBsmtSF</th>\n      <th>1stFlrSF</th>\n      <th>2ndFlrSF</th>\n      <th>GrLivArea</th>\n      <th>BedroomAbvGr</th>\n      <th>TotRmsAbvGrd</th>\n      <th>WoodDeckSF</th>\n      <th>YearBuilt</th>\n      <th>YearRemodAdd</th>\n      <th>MoSold</th>\n      <th>YrSold</th>\n    </tr>\n  </thead>\n  <tbody>\n    <tr>\n      <th>0</th>\n      <td>60</td>\n      <td>8450</td>\n      <td>7</td>\n      <td>5</td>\n      <td>856</td>\n      <td>856</td>\n      <td>854</td>\n      <td>1710</td>\n      <td>3</td>\n      <td>8</td>\n      <td>0</td>\n      <td>2003</td>\n      <td>2003</td>\n      <td>2</td>\n      <td>2008</td>\n    </tr>\n    <tr>\n      <th>1</th>\n      <td>20</td>\n      <td>9600</td>\n      <td>6</td>\n      <td>8</td>\n      <td>1262</td>\n      <td>1262</td>\n      <td>0</td>\n      <td>1262</td>\n      <td>3</td>\n      <td>6</td>\n      <td>298</td>\n      <td>1976</td>\n      <td>1976</td>\n      <td>5</td>\n      <td>2007</td>\n    </tr>\n    <tr>\n      <th>2</th>\n      <td>60</td>\n      <td>11250</td>\n      <td>7</td>\n      <td>5</td>\n      <td>920</td>\n      <td>920</td>\n      <td>866</td>\n      <td>1786</td>\n      <td>3</td>\n      <td>6</td>\n      <td>0</td>\n      <td>2001</td>\n      <td>2002</td>\n      <td>9</td>\n      <td>2008</td>\n    </tr>\n    <tr>\n      <th>3</th>\n      <td>70</td>\n      <td>9550</td>\n      <td>7</td>\n      <td>5</td>\n      <td>756</td>\n      <td>961</td>\n      <td>756</td>\n      <td>1717</td>\n      <td>3</td>\n      <td>7</td>\n      <td>0</td>\n      <td>1915</td>\n      <td>1970</td>\n      <td>2</td>\n      <td>2006</td>\n    </tr>\n    <tr>\n      <th>4</th>\n      <td>60</td>\n      <td>14260</td>\n      <td>8</td>\n      <td>5</td>\n      <td>1145</td>\n      <td>1145</td>\n      <td>1053</td>\n      <td>2198</td>\n      <td>4</td>\n      <td>9</td>\n      <td>192</td>\n      <td>2000</td>\n      <td>2000</td>\n      <td>12</td>\n      <td>2008</td>\n    </tr>\n  </tbody>\n</table>\n</div>"
          },
          "metadata": {}
        }
      ]
    },
    {
      "metadata": {
        "_cell_guid": "c1a31643-7d79-4d1c-9fbd-ed62b617422d",
        "_uuid": "e441d8868d4e1dd3a7acc0c97b8e9381e4955f1d",
        "trusted": true
      },
      "cell_type": "code",
      "source": "data.isnull().sum()",
      "execution_count": 7,
      "outputs": [
        {
          "output_type": "execute_result",
          "execution_count": 7,
          "data": {
            "text/plain": "MSSubClass      0\nLotArea         0\nOverallQual     0\nOverallCond     0\nTotalBsmtSF     0\n1stFlrSF        0\n2ndFlrSF        0\nGrLivArea       0\nBedroomAbvGr    0\nTotRmsAbvGrd    0\nWoodDeckSF      0\nYearBuilt       0\nYearRemodAdd    0\nMoSold          0\nYrSold          0\ndtype: int64"
          },
          "metadata": {}
        }
      ]
    },
    {
      "metadata": {
        "_cell_guid": "1bb9436e-9c74-4c8d-ac46-c270b02dde0f",
        "_uuid": "49a3dc5fa990133e9b3a43fea9b3032e7ffaa66e",
        "trusted": true
      },
      "cell_type": "code",
      "source": "X = data[features]\nX.shape",
      "execution_count": 8,
      "outputs": [
        {
          "output_type": "execute_result",
          "execution_count": 8,
          "data": {
            "text/plain": "(1460, 15)"
          },
          "metadata": {}
        }
      ]
    },
    {
      "metadata": {
        "_cell_guid": "5d2bbebe-aeae-431b-b588-c8457d98412f",
        "_uuid": "ecf5c1d8dbdef6687831c0605295f25584948b60",
        "trusted": true
      },
      "cell_type": "code",
      "source": "y = raw['SalePrice']\ny.shape",
      "execution_count": 9,
      "outputs": [
        {
          "output_type": "execute_result",
          "execution_count": 9,
          "data": {
            "text/plain": "(1460,)"
          },
          "metadata": {}
        }
      ]
    },
    {
      "metadata": {
        "_cell_guid": "18f8dae8-f999-40cf-9a52-b9f255b66ffd",
        "collapsed": true,
        "_uuid": "91316096111ccaf5ec8a3ac12ad7db439c83e474",
        "trusted": true
      },
      "cell_type": "code",
      "source": "from sklearn.model_selection import train_test_split\nX_train, X_test, y_train, y_test = train_test_split(X, y, test_size=0.2, random_state=42)",
      "execution_count": 10,
      "outputs": []
    },
    {
      "metadata": {
        "_cell_guid": "c7f489f2-bfe5-4fca-b81d-6d46b366b607",
        "_uuid": "a3b6d3d77a7f6d33228219d338063108d30b16e8",
        "trusted": true
      },
      "cell_type": "code",
      "source": "print(X_train.shape)\nprint(X_test.shape)\nprint(y_train.shape)\nprint(y_test.shape)",
      "execution_count": 11,
      "outputs": [
        {
          "output_type": "stream",
          "text": "(1168, 15)\n(292, 15)\n(1168,)\n(292,)\n",
          "name": "stdout"
        }
      ]
    },
    {
      "metadata": {
        "_cell_guid": "81b1cf62-c5f2-4c40-bee7-0dfe980ee808",
        "_uuid": "f5d64003ceb58eeaf3c816cf0ff5494f8d846408",
        "trusted": true
      },
      "cell_type": "code",
      "source": "from sklearn.linear_model import LinearRegression\nfrom sklearn.ensemble import RandomForestRegressor\nlr = RandomForestRegressor(n_estimators=80, max_depth=100, random_state=42)\nlr.fit(X_train, y_train)",
      "execution_count": 12,
      "outputs": [
        {
          "output_type": "execute_result",
          "execution_count": 12,
          "data": {
            "text/plain": "RandomForestRegressor(bootstrap=True, criterion='mse', max_depth=100,\n           max_features='auto', max_leaf_nodes=None,\n           min_impurity_decrease=0.0, min_impurity_split=None,\n           min_samples_leaf=1, min_samples_split=2,\n           min_weight_fraction_leaf=0.0, n_estimators=80, n_jobs=1,\n           oob_score=False, random_state=42, verbose=0, warm_start=False)"
          },
          "metadata": {}
        }
      ]
    },
    {
      "metadata": {
        "_cell_guid": "f79777d5-7a00-428f-82e4-5218b49e27d1",
        "_uuid": "7db0284a78e2fc1693eb951f86304ed33f424322",
        "trusted": true
      },
      "cell_type": "code",
      "source": "print(lr.feature_importances_)",
      "execution_count": 13,
      "outputs": [
        {
          "output_type": "stream",
          "text": "[ 0.00543748  0.0355208   0.57669155  0.00788578  0.05673134  0.04286379\n  0.03982629  0.14207614  0.00375581  0.01140869  0.010429    0.03516696\n  0.0196107   0.00866158  0.0039341 ]\n",
          "name": "stdout"
        }
      ]
    },
    {
      "metadata": {
        "_cell_guid": "5b8a574e-e2f4-4917-b763-913a4d1ed790",
        "_uuid": "896312a501d110295a187b12c865ac4b460634c1",
        "trusted": true
      },
      "cell_type": "code",
      "source": "y_pred = lr.predict(X_test)\ny_pred",
      "execution_count": 14,
      "outputs": [
        {
          "output_type": "execute_result",
          "execution_count": 14,
          "data": {
            "text/plain": "array([ 142794.375     ,  338508.1375    ,  112127.5       ,\n        145849.375     ,  311797.175     ,   82550.625     ,\n        212996.2375    ,  147963.125     ,   86804.1625    ,\n        149165.        ,  153780.5625    ,  119070.4       ,\n         89868.125     ,  221037.1       ,  183690.5       ,\n        137340.3125    ,  200035.1875    ,  141126.4       ,\n        113215.625     ,  199327.6875    ,  157724.3125    ,\n        223513.225     ,  174153.1       ,  127431.0625    ,\n        188396.3875    ,  171659.15      ,  194372.9125    ,\n        103274.375     ,  183644.2625    ,  194881.6125    ,\n        110999.125     ,  240196.2875    ,  202629.        ,\n        116943.125     ,  256350.5875    ,  150017.5       ,\n        153600.2625    ,  205601.725     ,  312023.1375    ,\n         98800.9625    ,  117023.75      ,  237062.1875    ,\n        124143.25      ,  376101.675     ,  125833.5375    ,\n        159540.        ,  112568.        ,  129282.625     ,\n        402316.0125    ,  145571.7       ,  122205.625     ,\n        184440.625     ,  132505.1875    ,  374427.175     ,\n        142780.33333333,  242083.8625    ,  195693.975     ,\n        151864.2125    ,  146051.875     ,  114682.5       ,\n         74945.        ,  147507.95      ,  308091.2125    ,\n        324098.775     ,  287578.5125    ,  230474.4375    ,\n        117695.        ,  314681.9125    ,  134355.125     ,\n        166440.5625    ,  125554.85      ,  132852.3375    ,\n        114615.625     ,   91170.        ,  472693.9125    ,\n        174008.6375    ,  308887.9125    ,  279852.625     ,\n        136099.375     ,  119956.25      ,  113668.75      ,\n        103339.575     ,  133121.25      ,  105830.5875    ,\n        155983.65      ,  140455.7       ,  262871.0625    ,\n        189438.625     ,  140306.25416667,  179844.875     ,\n        153644.4375    ,  163331.1125    ,  129990.        ,\n        254413.2875    ,  149115.25      ,  183846.4125    ,\n        176843.675     ,  161261.8125    ,  229283.5625    ,\n        233338.25      ,  179723.75      ,  213409.2125    ,\n        236947.95      ,  140503.225     ,  178203.15      ,\n        153190.        ,  144072.5       ,  259692.2       ,\n        133412.5       ,  176878.75      ,   64623.75      ,\n        142390.625     ,  137866.1875    ,  136937.225     ,\n        222253.55      ,  116155.        ,  115312.        ,\n        110608.75      ,  162624.55      ,  258851.0625    ,\n        145169.5       ,  139869.275     ,  185738.75      ,\n        182798.55      ,  172910.525     ,  130100.1875    ,\n        243837.225     ,  107695.        ,  153825.9375    ,\n        170796.875     ,  183729.75      ,  348885.3125    ,\n        215666.5625    ,  147935.625     ,   75488.75      ,\n        322996.85      ,  335679.4125    ,  131827.125     ,\n        219358.775     ,  630482.3375    ,  346952.7875    ,\n        139778.75      ,  179339.875     ,  154110.625     ,\n        138647.1875    ,  104001.15      ,  214892.125     ,\n        198110.3125    ,  127392.5       ,   70330.        ,\n        104116.875     ,  132687.275     ,  225377.375     ,\n        149984.5125    ,  103297.1875    ,  147820.325     ,\n        130549.675     ,  154212.5       ,   84841.875     ,\n        138417.5       ,  231989.5625    ,  147723.5875    ,\n        278000.6       ,  157944.175     ,  117432.5       ,\n        135934.375     ,  213938.975     ,  348613.375     ,\n        422818.3625    ,  245470.6875    ,  358566.975     ,\n        104693.75      ,  129721.85      ,  165344.4625    ,\n        365325.0125    ,  143370.        ,  141778.15      ,\n        202078.675     ,  125884.175     ,  171090.425     ,\n        156073.125     ,  108573.75      ,  135324.875     ,\n        146786.1125    ,  261988.125     ,  158725.625     ,\n        262658.9375    ,  207255.1375    ,  194072.725     ,\n         86301.25      ,  116039.375     ,  115442.5       ,\n        120440.        ,  154462.3375    ,  183138.8125    ,\n        167189.2125    ,  197511.2625    ,   97502.5       ,\n        211707.2125    ,  112523.175     ,  235533.75      ,\n        190345.7625    ,  115546.35      ,  339741.5625    ,\n        185960.2       ,  125661.375     ,  255072.        ,\n        142685.        ,  147625.        ,  115804.35      ,\n        219248.        ,  143623.875     ,  123316.25      ,\n        163995.9125    ,  187820.7       ,  258601.2875    ,\n        183100.45      ,  138646.875     ,  114770.4625    ,\n        136961.9875    ,  136746.875     ,  215329.75      ,\n        173642.        ,  113401.875     ,  243258.025     ,\n        152783.125     ,   95896.25      ,  116305.625     ,\n        172248.125     ,  105071.875     ,  104129.375     ,\n        182862.925     ,  123327.075     ,  147006.25      ,\n        224398.6625    ,  129959.525     ,  192033.8375    ,\n        139401.25      ,  223163.5       ,  124428.75      ,\n        103713.75      ,  231703.4125    ,  211491.1625    ,\n        393588.775     ,  178867.5       ,  115747.075     ,\n        159241.25      ,  152484.375     ,  139536.2125    ,\n        104344.7875    ,  181945.0875    ,  168261.        ,\n        134574.6375    ,   92865.        ,  149299.8375    ,\n        142693.5875    ,  117869.675     ,  114117.55      ,\n        174968.4875    ,  261079.6625    ,  358071.2375    ,\n        161373.725     ,  127415.625     ,  205152.5       ,\n        246772.225     ,  218936.5625    ,  170262.0125    ,\n        140692.1875    ,  121821.875     ,  168266.        ,\n        375987.0375    ,  209916.4       ,  240832.8625    ,\n        113857.9125    ,  100844.375     ,  136232.5       ,\n        136495.5       ,  348830.175     ,  196765.625     ,\n        140478.1875    ,  215205.15      ,  100388.8       ,\n        189391.8625    ,  111375.        ,  292992.975     ,\n        173463.375     ,  226627.3125    ,  114329.0625    ,\n        239071.25      ,  180228.8125    ,  134628.5125    ,  118578.75      ])"
          },
          "metadata": {}
        }
      ]
    },
    {
      "metadata": {
        "_cell_guid": "1cbf8f5f-54b6-49c4-b858-ff3e9f353e84",
        "_uuid": "8d35745a80d21edf3aa53065ca3188d7ca6c5a80",
        "trusted": true
      },
      "cell_type": "code",
      "source": "from sklearn.metrics import mean_squared_error, r2_score\nprint(mean_squared_error(y_test, y_pred))\nprint(r2_score(y_test, y_pred))",
      "execution_count": 15,
      "outputs": [
        {
          "output_type": "stream",
          "text": "803964419.546\n0.895185107148\n",
          "name": "stdout"
        }
      ]
    },
    {
      "metadata": {
        "_cell_guid": "1cd346d6-e622-460e-a8c3-b8146ca2ad81",
        "_uuid": "2c9d095733df0a8a023f6824645ca77363e97c53",
        "trusted": true
      },
      "cell_type": "code",
      "source": "unseen_data = pd.read_csv(\"../input/test.csv\")\nunseen_data[features].head()",
      "execution_count": 17,
      "outputs": [
        {
          "output_type": "execute_result",
          "execution_count": 17,
          "data": {
            "text/plain": "   MSSubClass  LotArea  OverallQual  OverallCond  TotalBsmtSF  1stFlrSF  \\\n0          20    11622            5            6        882.0       896   \n1          20    14267            6            6       1329.0      1329   \n2          60    13830            5            5        928.0       928   \n3          60     9978            6            6        926.0       926   \n4         120     5005            8            5       1280.0      1280   \n\n   2ndFlrSF  GrLivArea  BedroomAbvGr  TotRmsAbvGrd  WoodDeckSF  YearBuilt  \\\n0         0        896             2             5         140       1961   \n1         0       1329             3             6         393       1958   \n2       701       1629             3             6         212       1997   \n3       678       1604             3             7         360       1998   \n4         0       1280             2             5           0       1992   \n\n   YearRemodAdd  MoSold  YrSold  \n0          1961       6    2010  \n1          1958       6    2010  \n2          1998       3    2010  \n3          1998       6    2010  \n4          1992       1    2010  ",
            "text/html": "<div>\n<style>\n    .dataframe thead tr:only-child th {\n        text-align: right;\n    }\n\n    .dataframe thead th {\n        text-align: left;\n    }\n\n    .dataframe tbody tr th {\n        vertical-align: top;\n    }\n</style>\n<table border=\"1\" class=\"dataframe\">\n  <thead>\n    <tr style=\"text-align: right;\">\n      <th></th>\n      <th>MSSubClass</th>\n      <th>LotArea</th>\n      <th>OverallQual</th>\n      <th>OverallCond</th>\n      <th>TotalBsmtSF</th>\n      <th>1stFlrSF</th>\n      <th>2ndFlrSF</th>\n      <th>GrLivArea</th>\n      <th>BedroomAbvGr</th>\n      <th>TotRmsAbvGrd</th>\n      <th>WoodDeckSF</th>\n      <th>YearBuilt</th>\n      <th>YearRemodAdd</th>\n      <th>MoSold</th>\n      <th>YrSold</th>\n    </tr>\n  </thead>\n  <tbody>\n    <tr>\n      <th>0</th>\n      <td>20</td>\n      <td>11622</td>\n      <td>5</td>\n      <td>6</td>\n      <td>882.0</td>\n      <td>896</td>\n      <td>0</td>\n      <td>896</td>\n      <td>2</td>\n      <td>5</td>\n      <td>140</td>\n      <td>1961</td>\n      <td>1961</td>\n      <td>6</td>\n      <td>2010</td>\n    </tr>\n    <tr>\n      <th>1</th>\n      <td>20</td>\n      <td>14267</td>\n      <td>6</td>\n      <td>6</td>\n      <td>1329.0</td>\n      <td>1329</td>\n      <td>0</td>\n      <td>1329</td>\n      <td>3</td>\n      <td>6</td>\n      <td>393</td>\n      <td>1958</td>\n      <td>1958</td>\n      <td>6</td>\n      <td>2010</td>\n    </tr>\n    <tr>\n      <th>2</th>\n      <td>60</td>\n      <td>13830</td>\n      <td>5</td>\n      <td>5</td>\n      <td>928.0</td>\n      <td>928</td>\n      <td>701</td>\n      <td>1629</td>\n      <td>3</td>\n      <td>6</td>\n      <td>212</td>\n      <td>1997</td>\n      <td>1998</td>\n      <td>3</td>\n      <td>2010</td>\n    </tr>\n    <tr>\n      <th>3</th>\n      <td>60</td>\n      <td>9978</td>\n      <td>6</td>\n      <td>6</td>\n      <td>926.0</td>\n      <td>926</td>\n      <td>678</td>\n      <td>1604</td>\n      <td>3</td>\n      <td>7</td>\n      <td>360</td>\n      <td>1998</td>\n      <td>1998</td>\n      <td>6</td>\n      <td>2010</td>\n    </tr>\n    <tr>\n      <th>4</th>\n      <td>120</td>\n      <td>5005</td>\n      <td>8</td>\n      <td>5</td>\n      <td>1280.0</td>\n      <td>1280</td>\n      <td>0</td>\n      <td>1280</td>\n      <td>2</td>\n      <td>5</td>\n      <td>0</td>\n      <td>1992</td>\n      <td>1992</td>\n      <td>1</td>\n      <td>2010</td>\n    </tr>\n  </tbody>\n</table>\n</div>"
          },
          "metadata": {}
        }
      ]
    },
    {
      "metadata": {
        "_cell_guid": "2b124fd1-e0e9-46bf-96e0-da8d6a10d361",
        "_uuid": "c0c718b5f27e9abcb30f52e8895320fc866928c7",
        "trusted": true
      },
      "cell_type": "code",
      "source": "unseen_data[features].shape",
      "execution_count": 18,
      "outputs": [
        {
          "output_type": "execute_result",
          "execution_count": 18,
          "data": {
            "text/plain": "(1459, 15)"
          },
          "metadata": {}
        }
      ]
    },
    {
      "metadata": {
        "_cell_guid": "e4d6970d-7ee6-4eb2-800a-e27cbc77dc48",
        "_uuid": "b00cf44ee4229e43b0c7382ab61fe4bc4fdb0aa4",
        "trusted": true
      },
      "cell_type": "code",
      "source": "unseen_data[features].isnull().sum()",
      "execution_count": 19,
      "outputs": [
        {
          "output_type": "execute_result",
          "execution_count": 19,
          "data": {
            "text/plain": "MSSubClass      0\nLotArea         0\nOverallQual     0\nOverallCond     0\nTotalBsmtSF     1\n1stFlrSF        0\n2ndFlrSF        0\nGrLivArea       0\nBedroomAbvGr    0\nTotRmsAbvGrd    0\nWoodDeckSF      0\nYearBuilt       0\nYearRemodAdd    0\nMoSold          0\nYrSold          0\ndtype: int64"
          },
          "metadata": {}
        }
      ]
    },
    {
      "metadata": {
        "_cell_guid": "29cecba3-3a35-4da2-935e-4aada3dd1333",
        "_uuid": "c9dcb04a0184620ec1734769514e897a250a2931",
        "trusted": true,
        "collapsed": true
      },
      "cell_type": "code",
      "source": "unseen_data[['TotalBsmtSF']] = unseen_data[['TotalBsmtSF']].fillna(value=1057)",
      "execution_count": 20,
      "outputs": []
    },
    {
      "metadata": {
        "_cell_guid": "a837886d-7e9f-44a9-9688-b6b3b463345e",
        "_uuid": "9bec20404d4eb74a54e520734987f7e7923456e9",
        "trusted": true
      },
      "cell_type": "code",
      "source": "unseen_data[features].isnull().sum()",
      "execution_count": 21,
      "outputs": [
        {
          "output_type": "execute_result",
          "execution_count": 21,
          "data": {
            "text/plain": "MSSubClass      0\nLotArea         0\nOverallQual     0\nOverallCond     0\nTotalBsmtSF     0\n1stFlrSF        0\n2ndFlrSF        0\nGrLivArea       0\nBedroomAbvGr    0\nTotRmsAbvGrd    0\nWoodDeckSF      0\nYearBuilt       0\nYearRemodAdd    0\nMoSold          0\nYrSold          0\ndtype: int64"
          },
          "metadata": {}
        }
      ]
    },
    {
      "metadata": {
        "_cell_guid": "4e67a3be-41d8-46ff-8ba1-12432bbce4cd",
        "_uuid": "16224e7b7547c6879d5b0b9a3a64d53eacb55710",
        "trusted": true
      },
      "cell_type": "code",
      "source": "unseen_data_pred = lr.predict(unseen_data[features])\nunseen_data_pred",
      "execution_count": 22,
      "outputs": [
        {
          "output_type": "execute_result",
          "execution_count": 22,
          "data": {
            "text/plain": "array([ 127984.375 ,  155179.375 ,  171075.0375, ...,  154579.6875,\n        137628.375 ,  230526.9125])"
          },
          "metadata": {}
        }
      ]
    },
    {
      "metadata": {
        "_cell_guid": "b7dbf6e5-8005-42c1-8a59-58d710d7fd7e",
        "_uuid": "09c41ebab3ef5d6a3fc59b992d19308147a42171",
        "trusted": true
      },
      "cell_type": "code",
      "source": "unseen_data_pred.shape",
      "execution_count": 23,
      "outputs": [
        {
          "output_type": "execute_result",
          "execution_count": 23,
          "data": {
            "text/plain": "(1459,)"
          },
          "metadata": {}
        }
      ]
    },
    {
      "metadata": {
        "_cell_guid": "95f9c01f-eeda-4a31-a764-73fa65156e44",
        "_uuid": "339ea1aa8182dfcfc28b8e052930a0cb6c36942d",
        "trusted": true
      },
      "cell_type": "code",
      "source": "submission = pd.concat([unseen_data[['Id'] + features], pd.Series(unseen_data_pred, name='SalePrice')], axis=1)\nsubmission.head()",
      "execution_count": 25,
      "outputs": [
        {
          "output_type": "execute_result",
          "execution_count": 25,
          "data": {
            "text/plain": "     Id  MSSubClass  LotArea  OverallQual  OverallCond  TotalBsmtSF  1stFlrSF  \\\n0  1461          20    11622            5            6        882.0       896   \n1  1462          20    14267            6            6       1329.0      1329   \n2  1463          60    13830            5            5        928.0       928   \n3  1464          60     9978            6            6        926.0       926   \n4  1465         120     5005            8            5       1280.0      1280   \n\n   2ndFlrSF  GrLivArea  BedroomAbvGr  TotRmsAbvGrd  WoodDeckSF  YearBuilt  \\\n0         0        896             2             5         140       1961   \n1         0       1329             3             6         393       1958   \n2       701       1629             3             6         212       1997   \n3       678       1604             3             7         360       1998   \n4         0       1280             2             5           0       1992   \n\n   YearRemodAdd  MoSold  YrSold    SalePrice  \n0          1961       6    2010  127984.3750  \n1          1958       6    2010  155179.3750  \n2          1998       3    2010  171075.0375  \n3          1998       6    2010  188590.0000  \n4          1992       1    2010  209446.1625  ",
            "text/html": "<div>\n<style>\n    .dataframe thead tr:only-child th {\n        text-align: right;\n    }\n\n    .dataframe thead th {\n        text-align: left;\n    }\n\n    .dataframe tbody tr th {\n        vertical-align: top;\n    }\n</style>\n<table border=\"1\" class=\"dataframe\">\n  <thead>\n    <tr style=\"text-align: right;\">\n      <th></th>\n      <th>Id</th>\n      <th>MSSubClass</th>\n      <th>LotArea</th>\n      <th>OverallQual</th>\n      <th>OverallCond</th>\n      <th>TotalBsmtSF</th>\n      <th>1stFlrSF</th>\n      <th>2ndFlrSF</th>\n      <th>GrLivArea</th>\n      <th>BedroomAbvGr</th>\n      <th>TotRmsAbvGrd</th>\n      <th>WoodDeckSF</th>\n      <th>YearBuilt</th>\n      <th>YearRemodAdd</th>\n      <th>MoSold</th>\n      <th>YrSold</th>\n      <th>SalePrice</th>\n    </tr>\n  </thead>\n  <tbody>\n    <tr>\n      <th>0</th>\n      <td>1461</td>\n      <td>20</td>\n      <td>11622</td>\n      <td>5</td>\n      <td>6</td>\n      <td>882.0</td>\n      <td>896</td>\n      <td>0</td>\n      <td>896</td>\n      <td>2</td>\n      <td>5</td>\n      <td>140</td>\n      <td>1961</td>\n      <td>1961</td>\n      <td>6</td>\n      <td>2010</td>\n      <td>127984.3750</td>\n    </tr>\n    <tr>\n      <th>1</th>\n      <td>1462</td>\n      <td>20</td>\n      <td>14267</td>\n      <td>6</td>\n      <td>6</td>\n      <td>1329.0</td>\n      <td>1329</td>\n      <td>0</td>\n      <td>1329</td>\n      <td>3</td>\n      <td>6</td>\n      <td>393</td>\n      <td>1958</td>\n      <td>1958</td>\n      <td>6</td>\n      <td>2010</td>\n      <td>155179.3750</td>\n    </tr>\n    <tr>\n      <th>2</th>\n      <td>1463</td>\n      <td>60</td>\n      <td>13830</td>\n      <td>5</td>\n      <td>5</td>\n      <td>928.0</td>\n      <td>928</td>\n      <td>701</td>\n      <td>1629</td>\n      <td>3</td>\n      <td>6</td>\n      <td>212</td>\n      <td>1997</td>\n      <td>1998</td>\n      <td>3</td>\n      <td>2010</td>\n      <td>171075.0375</td>\n    </tr>\n    <tr>\n      <th>3</th>\n      <td>1464</td>\n      <td>60</td>\n      <td>9978</td>\n      <td>6</td>\n      <td>6</td>\n      <td>926.0</td>\n      <td>926</td>\n      <td>678</td>\n      <td>1604</td>\n      <td>3</td>\n      <td>7</td>\n      <td>360</td>\n      <td>1998</td>\n      <td>1998</td>\n      <td>6</td>\n      <td>2010</td>\n      <td>188590.0000</td>\n    </tr>\n    <tr>\n      <th>4</th>\n      <td>1465</td>\n      <td>120</td>\n      <td>5005</td>\n      <td>8</td>\n      <td>5</td>\n      <td>1280.0</td>\n      <td>1280</td>\n      <td>0</td>\n      <td>1280</td>\n      <td>2</td>\n      <td>5</td>\n      <td>0</td>\n      <td>1992</td>\n      <td>1992</td>\n      <td>1</td>\n      <td>2010</td>\n      <td>209446.1625</td>\n    </tr>\n  </tbody>\n</table>\n</div>"
          },
          "metadata": {}
        }
      ]
    },
    {
      "metadata": {
        "_cell_guid": "74c3aec1-61d2-4dd3-b96c-52e906191d1e",
        "_uuid": "1a6b192e6a92026132670d8fd1e50464e3d1c142",
        "trusted": true
      },
      "cell_type": "code",
      "source": "submission.shape",
      "execution_count": 26,
      "outputs": [
        {
          "output_type": "execute_result",
          "execution_count": 26,
          "data": {
            "text/plain": "(1459, 17)"
          },
          "metadata": {}
        }
      ]
    },
    {
      "metadata": {
        "_cell_guid": "5958782d-1a94-44ce-b903-39747ff3703d",
        "_uuid": "b71a4963fd7dc0e24b382618a7590853d2a05ed1",
        "trusted": true
      },
      "cell_type": "code",
      "source": "result = submission[['Id', 'SalePrice']]\nresult.shape",
      "execution_count": 27,
      "outputs": [
        {
          "output_type": "execute_result",
          "execution_count": 27,
          "data": {
            "text/plain": "(1459, 2)"
          },
          "metadata": {}
        }
      ]
    },
    {
      "metadata": {
        "_cell_guid": "2955e302-0f25-483a-a2fa-b65dcd0bf044",
        "_uuid": "f299a4c827243771c0deaec49916902bd827809b",
        "trusted": true
      },
      "cell_type": "code",
      "source": "result.head()",
      "execution_count": 30,
      "outputs": [
        {
          "output_type": "execute_result",
          "execution_count": 30,
          "data": {
            "text/plain": "     Id    SalePrice\n0  1461  127984.3750\n1  1462  155179.3750\n2  1463  171075.0375\n3  1464  188590.0000\n4  1465  209446.1625",
            "text/html": "<div>\n<style>\n    .dataframe thead tr:only-child th {\n        text-align: right;\n    }\n\n    .dataframe thead th {\n        text-align: left;\n    }\n\n    .dataframe tbody tr th {\n        vertical-align: top;\n    }\n</style>\n<table border=\"1\" class=\"dataframe\">\n  <thead>\n    <tr style=\"text-align: right;\">\n      <th></th>\n      <th>Id</th>\n      <th>SalePrice</th>\n    </tr>\n  </thead>\n  <tbody>\n    <tr>\n      <th>0</th>\n      <td>1461</td>\n      <td>127984.3750</td>\n    </tr>\n    <tr>\n      <th>1</th>\n      <td>1462</td>\n      <td>155179.3750</td>\n    </tr>\n    <tr>\n      <th>2</th>\n      <td>1463</td>\n      <td>171075.0375</td>\n    </tr>\n    <tr>\n      <th>3</th>\n      <td>1464</td>\n      <td>188590.0000</td>\n    </tr>\n    <tr>\n      <th>4</th>\n      <td>1465</td>\n      <td>209446.1625</td>\n    </tr>\n  </tbody>\n</table>\n</div>"
          },
          "metadata": {}
        }
      ]
    },
    {
      "metadata": {
        "_cell_guid": "254b1568-605f-42e3-8a28-6d0e66e8fe8c",
        "collapsed": true,
        "_uuid": "dfc8279d495f1e0f4f941505811e2b4cd6b5959d",
        "trusted": true
      },
      "cell_type": "code",
      "source": "result.to_csv('result.csv', index=False)",
      "execution_count": 31,
      "outputs": []
    }
  ],
  "metadata": {
    "kernelspec": {
      "display_name": "Python 3",
      "language": "python",
      "name": "python3"
    },
    "language_info": {
      "name": "python",
      "version": "3.6.4",
      "mimetype": "text/x-python",
      "codemirror_mode": {
        "name": "ipython",
        "version": 3
      },
      "pygments_lexer": "ipython3",
      "nbconvert_exporter": "python",
      "file_extension": ".py"
    }
  },
  "nbformat": 4,
  "nbformat_minor": 1
}